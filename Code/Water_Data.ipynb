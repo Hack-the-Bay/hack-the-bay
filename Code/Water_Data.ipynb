{
 "cells": [
  {
   "cell_type": "markdown",
   "metadata": {},
   "source": [
    "# Water Quality Data"
   ]
  },
  {
   "cell_type": "markdown",
   "metadata": {},
   "source": [
    "This notebook contains the code used to pull together raw exported CMC and CBP water quality data."
   ]
  },
  {
   "cell_type": "code",
   "execution_count": 1,
   "metadata": {},
   "outputs": [],
   "source": [
    "import pandas as pd\n",
    "import numpy as np\n",
    "import matplotlib.pyplot as plt\n",
    "import regex as re\n",
    "\n",
    "pd.set_option('display.max_rows', 500)\n",
    "pd.set_option('display.max_columns', 500)\n",
    "pd.set_option('display.width', 1000)"
   ]
  },
  {
   "cell_type": "markdown",
   "metadata": {},
   "source": [
    "## CMC Water Quality"
   ]
  },
  {
   "cell_type": "code",
   "execution_count": 2,
   "metadata": {},
   "outputs": [],
   "source": [
    "# reading in CMC water data for each state: Jan 1, 1990 - July 11, 2020\n",
    "water_dc = pd.read_csv('./Data/CMC_water/water_DC.csv', low_memory = False)\n",
    "water_de = pd.read_csv('./Data/CMC_water/water_DE.csv', low_memory = False)\n",
    "water_md = pd.read_csv('./Data/CMC_water/water_MD.csv', low_memory = False)\n",
    "water_ny = pd.read_csv('./Data/CMC_water/water_NY.csv', low_memory = False)\n",
    "water_pa = pd.read_csv('./Data/CMC_water/water_PA.csv', low_memory = False)\n",
    "water_va = pd.read_csv('./Data/CMC_water/water_VA.csv', low_memory = False)\n",
    "water_wv = pd.read_csv('./Data/CMC_water/water_WV.csv', low_memory = False)"
   ]
  },
  {
   "cell_type": "code",
   "execution_count": 3,
   "metadata": {},
   "outputs": [],
   "source": [
    "# adding new column to track state\n",
    "water_dc['state'] = 'DC'\n",
    "water_de['state'] = 'DE'\n",
    "water_md['state'] = 'MD'\n",
    "water_ny['state'] = 'NY'\n",
    "water_pa['state'] = 'PA'\n",
    "water_va['state'] = 'VA'\n",
    "water_wv['state'] = 'WV'"
   ]
  },
  {
   "cell_type": "code",
   "execution_count": 4,
   "metadata": {},
   "outputs": [
    {
     "name": "stdout",
     "output_type": "stream",
     "text": [
      "DC:  (1390, 205)\n",
      "DE:  (1336, 163)\n",
      "MD:  (14738, 499)\n",
      "NY:  (7144, 181)\n",
      "PA:  (16718, 307)\n",
      "VA:  (17792, 433)\n",
      "WV:  (102, 109)\n"
     ]
    }
   ],
   "source": [
    "# check shapes\n",
    "print(\"DC: \", water_dc.shape)\n",
    "print(\"DE: \", water_de.shape)\n",
    "print(\"MD: \", water_md.shape)\n",
    "print(\"NY: \", water_ny.shape)\n",
    "print(\"PA: \", water_pa.shape)\n",
    "print(\"VA: \", water_va.shape)\n",
    "print(\"WV: \", water_wv.shape)"
   ]
  },
  {
   "cell_type": "code",
   "execution_count": 5,
   "metadata": {},
   "outputs": [
    {
     "name": "stdout",
     "output_type": "stream",
     "text": [
      "59220\n"
     ]
    }
   ],
   "source": [
    "# calculating total expected rows\n",
    "total = water_dc.shape[0] + \\\n",
    "        water_de.shape[0] + \\\n",
    "        water_md.shape[0] + \\\n",
    "        water_ny.shape[0] + \\\n",
    "        water_pa.shape[0] + \\\n",
    "        water_va.shape[0] + \\\n",
    "        water_wv.shape[0]\n",
    "print(total)"
   ]
  },
  {
   "cell_type": "code",
   "execution_count": 6,
   "metadata": {
    "scrolled": true
   },
   "outputs": [
    {
     "name": "stdout",
     "output_type": "stream",
     "text": [
      "CMC water (all states):  (59220, 715)\n",
      "CMC water (without duplicates):  (59220, 715)\n"
     ]
    }
   ],
   "source": [
    "# combine into one\n",
    "water = pd.concat([water_dc, water_de, water_md, water_ny, water_pa, water_va, water_wv], axis = 0, sort = True)\n",
    "print(\"CMC water (all states): \", water.shape) # checking shape of combined df\n",
    "print(\"CMC water (without duplicates): \", water.drop_duplicates().shape)"
   ]
  },
  {
   "cell_type": "markdown",
   "metadata": {},
   "source": [
    "Do not appear to be duplicate rows in the dataset."
   ]
  },
  {
   "cell_type": "markdown",
   "metadata": {},
   "source": [
    "#### Dropping Unnecessary Columns"
   ]
  },
  {
   "cell_type": "code",
   "execution_count": 7,
   "metadata": {},
   "outputs": [],
   "source": [
    "# DROP CODES - from CMC, codes not to be used\n",
    "cmc_drop = ['AT.7', 'AT.8', 'DO.13', 'ECOLI.3', 'FC.1', 'PH.14', 'SA.5', 'WC.11', 'WT.11']\n",
    "# get columns\n",
    "columns = water.columns\n",
    "drop = []\n",
    "for x in cmc_drop:\n",
    "    droplist = [i for i in columns if x in i]\n",
    "    drop.extend(droplist)"
   ]
  },
  {
   "cell_type": "code",
   "execution_count": 8,
   "metadata": {},
   "outputs": [],
   "source": [
    "water = water.drop(columns = drop)"
   ]
  },
  {
   "cell_type": "code",
   "execution_count": 9,
   "metadata": {},
   "outputs": [
    {
     "data": {
      "text/plain": [
       "(59220, 667)"
      ]
     },
     "execution_count": 9,
     "metadata": {},
     "output_type": "execute_result"
    }
   ],
   "source": [
    "water.shape"
   ]
  },
  {
   "cell_type": "markdown",
   "metadata": {},
   "source": [
    "### Pivoting to Match CBP"
   ]
  },
  {
   "cell_type": "code",
   "execution_count": 10,
   "metadata": {},
   "outputs": [],
   "source": [
    "water.columns = [i.replace('(E.Coli)', '[E.Coli]') for i in water.columns] # so we can split on parens\n",
    "\n",
    "params = [i for i in water.columns if '(' in i] # get just parameter columns\n",
    "other  = [i for i in water.columns if i not in params] # get other non parameter columns\n",
    "\n",
    "# get unique parameter codes\n",
    "codes = list(set([i.split('(')[1].split(')')[0] for i in params]))\n",
    "codes = ['(' + i + ')' for i in codes] # adding parens back"
   ]
  },
  {
   "cell_type": "code",
   "execution_count": 11,
   "metadata": {
    "scrolled": false
   },
   "outputs": [
    {
     "name": "stdout",
     "output_type": "stream",
     "text": [
      "137 rows added for (CHL.3)\n",
      "3050 rows added for (DO.6)\n",
      "792 rows added for (NO3N.5)\n",
      "1549 rows added for (SA.9)\n",
      "4602 rows added for (DO.5)\n",
      "2575 rows added for (NO3N.6)\n",
      "1867 rows added for (WC.2)\n",
      "723 rows added for (WT.8)\n",
      "65 rows added for (PH.6)\n",
      "2978 rows added for (CO.8)\n",
      "1808 rows added for (AT.3)\n",
      "1309 rows added for (OP.1)\n",
      "4299 rows added for (WT.1)\n",
      "292 rows added for (NH4N.1)\n",
      "4616 rows added for (WT.4)\n",
      "125 rows added for (AT.11)\n",
      "4072 rows added for (AT.2)\n",
      "3326 rows added for (CHL.1)\n",
      "2613 rows added for (ECOLI.4)\n",
      "203 rows added for (TP.3)\n",
      "3706 rows added for (NO3N.1)\n",
      "642 rows added for (ECOLI.6)\n",
      "150 rows added for (CO.9)\n",
      "90 rows added for (WC.7)\n",
      "3126 rows added for (OP.3)\n",
      "3454 rows added for (ECOLI.1)\n",
      "10156 rows added for (TDS.1)\n",
      "355 rows added for (WT.5)\n",
      "3198 rows added for (WC.5)\n",
      "4421 rows added for (WC.6)\n",
      "2258 rows added for (AT.1)\n",
      "1794 rows added for (AT.10)\n",
      "589 rows added for (NO3N.2)\n",
      "144 rows added for (TDS.3)\n",
      "776 rows added for (AT.9)\n",
      "1373 rows added for (ENT.2)\n",
      "8763 rows added for (WT.10)\n",
      "5052 rows added for (TD.1)\n",
      "73 rows added for (WC.9)\n",
      "8437 rows added for (SA.3)\n",
      "2925 rows added for (SA.6)\n",
      "150 rows added for (PH.11)\n",
      "8651 rows added for (DO.3)\n",
      "205 rows added for (NO3N.4)\n",
      "5207 rows added for (DO.4)\n",
      "302 rows added for (SA.2)\n",
      "440 rows added for (TSS.1)\n",
      "11794 rows added for (CO.1)\n",
      "18 rows added for (PH.10)\n",
      "619 rows added for (OP.2)\n",
      "29 rows added for (WC.12)\n",
      "2068 rows added for (CO.4)\n",
      "11760 rows added for (WT.3)\n",
      "2844 rows added for (WC.1)\n",
      "82 rows added for (CO.2)\n",
      "2795 rows added for (ALKY.6)\n",
      "834 rows added for (SA.10)\n",
      "93 rows added for (PH.8)\n",
      "1134 rows added for (OP.8)\n",
      "172 rows added for (NO2NO3.1)\n",
      "14777 rows added for (DO.2)\n",
      "336 rows added for (DO.7)\n",
      "7620 rows added for (WC.4)\n",
      "82 rows added for (DO.15)\n",
      "604 rows added for (TSS.3)\n",
      "2366 rows added for (OP.7)\n",
      "2 rows added for (WC.8)\n",
      "1137 rows added for (CHL.2)\n",
      "602 rows added for (WT.12)\n",
      "203 rows added for (TN.2)\n",
      "4634 rows added for (CO.5)\n",
      "15 rows added for (OP.4)\n",
      "725 rows added for (AT.4)\n",
      "142 rows added for (TDS.2)\n",
      "3257 rows added for (NO3N.3)\n",
      "4151 rows added for (WT.2)\n",
      "3673 rows added for (WT.6)\n",
      "5115 rows added for (PH.9)\n",
      "227 rows added for (SA.8)\n",
      "40 rows added for (CHL.4)\n",
      "751 rows added for (WT.9)\n",
      "978 rows added for (SA.1)\n",
      "4964 rows added for (PH.7)\n",
      "5469 rows added for (PH.1)\n",
      "3080 rows added for (DO.9)\n",
      "108 rows added for (TKN.1)\n",
      "91 rows added for (ENT.1)\n",
      "29 rows added for (WT.7)\n",
      "604 rows added for (DO.14)\n",
      "364 rows added for (AT.5)\n",
      "265 rows added for (OP.6)\n",
      "230 rows added for (TP.2)\n",
      "1 rows added for (PH.5)\n",
      "269 rows added for (NO2NO3.4)\n",
      "2633 rows added for (TP.1)\n",
      "2177 rows added for (TN.1)\n",
      "10779 rows added for (PH.4)\n",
      "72 rows added for (PH.2)\n",
      "280 rows added for (ECOLI.2)\n",
      "9430 rows added for (DO.1)\n",
      "9010 rows added for (PH.3)\n",
      "4802 rows added for (AT.6)\n",
      "283 rows added for (DO.8)\n",
      "230 rows added for (TN.3)\n",
      "2351 rows added for (WT.13)\n",
      "3623 rows added for (ALKY.3)\n",
      "Total rows:  264261\n"
     ]
    }
   ],
   "source": [
    "commoncols = ['Measure', 'Code', 'Problem', 'Qualifier', 'Tier', 'Units', 'Parameter'] # each param has these cols\n",
    "cmc_water = pd.DataFrame()\n",
    "count = 0\n",
    "for x in codes:\n",
    "    this_param = [i for i in params if x in i] # get just the column names for this param\n",
    "    paramname = this_param[0].split('(')[0] # get the name of the parameter\n",
    "    measure = this_param[0]\n",
    "    \n",
    "    assert len(this_param)==6 # make sure just 6 columns per parameter\n",
    "    \n",
    "    # dictionary to map new column names\n",
    "    newcols = {this_param[0]: \"MeasureValue\",\n",
    "               this_param[1]: \"Parameter\",\n",
    "               this_param[2]: \"Problem\",\n",
    "               this_param[3]: \"Qualifier\",\n",
    "               this_param[4]: \"TierLevel\",\n",
    "               this_param[5]: \"Unit\"\n",
    "              }\n",
    "    \n",
    "    mycols = other + this_param # get full list of columns to subset\n",
    "    mydf = water[mycols] # subset to df\n",
    "    mydf = mydf[mydf[measure].notna()] # drop if measure column is null\n",
    "    \n",
    "    mydf.rename(columns = newcols, inplace = True) # renaming to generic columns\n",
    "    mydf['ParameterName_CMC'] = paramname\n",
    "    \n",
    "    cmc_water = pd.concat([cmc_water, mydf], axis = 0, sort = True)\n",
    "    print(\"{} rows added for {}\".format(mydf.shape[0], x))\n",
    "    count += mydf.shape[0]\n",
    "print(\"Total rows: \", count)"
   ]
  },
  {
   "cell_type": "code",
   "execution_count": 12,
   "metadata": {},
   "outputs": [],
   "source": [
    "# set database to CMC to track source\n",
    "cmc_water['Database'] = 'CMC'"
   ]
  },
  {
   "cell_type": "code",
   "execution_count": 13,
   "metadata": {},
   "outputs": [
    {
     "data": {
      "text/plain": [
       "(264261, 39)"
      ]
     },
     "execution_count": 13,
     "metadata": {},
     "output_type": "execute_result"
    }
   ],
   "source": [
    "cmc_water.shape"
   ]
  },
  {
   "cell_type": "markdown",
   "metadata": {},
   "source": [
    "## CBP Water Quality"
   ]
  },
  {
   "cell_type": "code",
   "execution_count": 14,
   "metadata": {},
   "outputs": [],
   "source": [
    "cbp1 = pd.read_csv('./Data/CBP_water/CBP_WaterQualityHUC12_2005-2010.csv', low_memory = False)\n",
    "cbp2 = pd.read_csv('./Data/CBP_water/CBP_WaterQualityHUC12_2010-2015.csv', low_memory = False)\n",
    "cbp3 = pd.read_csv('./Data/CBP_water/CBP_WaterQualityHUC12_2015-2020.csv', low_memory = False)"
   ]
  },
  {
   "cell_type": "code",
   "execution_count": 15,
   "metadata": {},
   "outputs": [
    {
     "name": "stdout",
     "output_type": "stream",
     "text": [
      "(1895654, 30)\n",
      "(1631328, 30)\n",
      "(1370283, 30)\n"
     ]
    }
   ],
   "source": [
    "# checking shape of each csv\n",
    "print(cbp1.shape)\n",
    "print(cbp2.shape)\n",
    "print(cbp3.shape)"
   ]
  },
  {
   "cell_type": "code",
   "execution_count": 16,
   "metadata": {},
   "outputs": [
    {
     "name": "stdout",
     "output_type": "stream",
     "text": [
      "4897265\n"
     ]
    }
   ],
   "source": [
    "# calculating total expected rows\n",
    "total = cbp1.shape[0] + \\\n",
    "        cbp2.shape[0] + \\\n",
    "        cbp3.shape[0]\n",
    "print(total)"
   ]
  },
  {
   "cell_type": "code",
   "execution_count": 17,
   "metadata": {},
   "outputs": [
    {
     "name": "stdout",
     "output_type": "stream",
     "text": [
      "all:  (4897265, 30)\n"
     ]
    }
   ],
   "source": [
    "# combine into one\n",
    "cbp_water = pd.concat([cbp1, cbp2, cbp3], axis = 0, sort = True)\n",
    "print(\"all: \", cbp_water.shape) # checking shape of combined df"
   ]
  },
  {
   "cell_type": "code",
   "execution_count": 18,
   "metadata": {
    "scrolled": false
   },
   "outputs": [
    {
     "data": {
      "text/html": [
       "<div>\n",
       "<style scoped>\n",
       "    .dataframe tbody tr th:only-of-type {\n",
       "        vertical-align: middle;\n",
       "    }\n",
       "\n",
       "    .dataframe tbody tr th {\n",
       "        vertical-align: top;\n",
       "    }\n",
       "\n",
       "    .dataframe thead th {\n",
       "        text-align: right;\n",
       "    }\n",
       "</style>\n",
       "<table border=\"1\" class=\"dataframe\">\n",
       "  <thead>\n",
       "    <tr style=\"text-align: right;\">\n",
       "      <th></th>\n",
       "      <th>Agency</th>\n",
       "      <th>BiasPC</th>\n",
       "      <th>Cruise</th>\n",
       "      <th>Depth</th>\n",
       "      <th>Details</th>\n",
       "      <th>EventId</th>\n",
       "      <th>HUC12</th>\n",
       "      <th>Lab</th>\n",
       "      <th>Latitude</th>\n",
       "      <th>Layer</th>\n",
       "      <th>Longitude</th>\n",
       "      <th>LowerPycnocline</th>\n",
       "      <th>MeasureValue</th>\n",
       "      <th>Method</th>\n",
       "      <th>Parameter</th>\n",
       "      <th>PrecisionPC</th>\n",
       "      <th>Problem</th>\n",
       "      <th>Program</th>\n",
       "      <th>Project</th>\n",
       "      <th>Qualifier</th>\n",
       "      <th>SampleDate</th>\n",
       "      <th>SampleReplicateType</th>\n",
       "      <th>SampleTime</th>\n",
       "      <th>SampleType</th>\n",
       "      <th>Source</th>\n",
       "      <th>Station</th>\n",
       "      <th>TierLevel</th>\n",
       "      <th>TotalDepth</th>\n",
       "      <th>Unit</th>\n",
       "      <th>UpperPycnocline</th>\n",
       "    </tr>\n",
       "  </thead>\n",
       "  <tbody>\n",
       "    <tr>\n",
       "      <th>0</th>\n",
       "      <td>MDDNR</td>\n",
       "      <td>NaN</td>\n",
       "      <td>BAY509</td>\n",
       "      <td>0.5</td>\n",
       "      <td>NaN</td>\n",
       "      <td>106165.0</td>\n",
       "      <td>020403030303</td>\n",
       "      <td>MDHMH</td>\n",
       "      <td>38.44902</td>\n",
       "      <td>BS</td>\n",
       "      <td>-75.13245</td>\n",
       "      <td>NaN</td>\n",
       "      <td>132.737</td>\n",
       "      <td>L01</td>\n",
       "      <td>CHLA</td>\n",
       "      <td>NaN</td>\n",
       "      <td>NaN</td>\n",
       "      <td>SWM</td>\n",
       "      <td>CMON</td>\n",
       "      <td>NaN</td>\n",
       "      <td>7/22/2009</td>\n",
       "      <td>S1</td>\n",
       "      <td>11:30:00</td>\n",
       "      <td>D</td>\n",
       "      <td>MDDNR</td>\n",
       "      <td>XDN6921</td>\n",
       "      <td>T3</td>\n",
       "      <td>0.8</td>\n",
       "      <td>UG/L</td>\n",
       "      <td>NaN</td>\n",
       "    </tr>\n",
       "    <tr>\n",
       "      <th>1</th>\n",
       "      <td>MDDNR</td>\n",
       "      <td>NaN</td>\n",
       "      <td>BAY531</td>\n",
       "      <td>0.1</td>\n",
       "      <td>NaN</td>\n",
       "      <td>112549.0</td>\n",
       "      <td>020403030303</td>\n",
       "      <td>MDHMH</td>\n",
       "      <td>38.44902</td>\n",
       "      <td>BS</td>\n",
       "      <td>-75.13245</td>\n",
       "      <td>NaN</td>\n",
       "      <td>100.392</td>\n",
       "      <td>L01</td>\n",
       "      <td>CHLA</td>\n",
       "      <td>NaN</td>\n",
       "      <td>NaN</td>\n",
       "      <td>SWM</td>\n",
       "      <td>CMON</td>\n",
       "      <td>NaN</td>\n",
       "      <td>6/22/2010</td>\n",
       "      <td>S1</td>\n",
       "      <td>11:45:00</td>\n",
       "      <td>D</td>\n",
       "      <td>MDDNR</td>\n",
       "      <td>XDN6921</td>\n",
       "      <td>T3</td>\n",
       "      <td>0.4</td>\n",
       "      <td>UG/L</td>\n",
       "      <td>NaN</td>\n",
       "    </tr>\n",
       "    <tr>\n",
       "      <th>2</th>\n",
       "      <td>MDDNR</td>\n",
       "      <td>NaN</td>\n",
       "      <td>BAY532</td>\n",
       "      <td>0.1</td>\n",
       "      <td>NaN</td>\n",
       "      <td>112810.0</td>\n",
       "      <td>020403030303</td>\n",
       "      <td>MDHMH</td>\n",
       "      <td>38.44902</td>\n",
       "      <td>BS</td>\n",
       "      <td>-75.13245</td>\n",
       "      <td>NaN</td>\n",
       "      <td>51.264</td>\n",
       "      <td>L01</td>\n",
       "      <td>CHLA</td>\n",
       "      <td>NaN</td>\n",
       "      <td>NaN</td>\n",
       "      <td>SWM</td>\n",
       "      <td>CMON</td>\n",
       "      <td>NaN</td>\n",
       "      <td>7/7/2010</td>\n",
       "      <td>S1</td>\n",
       "      <td>11:30:00</td>\n",
       "      <td>D</td>\n",
       "      <td>MDDNR</td>\n",
       "      <td>XDN6921</td>\n",
       "      <td>T3</td>\n",
       "      <td>0.4</td>\n",
       "      <td>UG/L</td>\n",
       "      <td>NaN</td>\n",
       "    </tr>\n",
       "    <tr>\n",
       "      <th>3</th>\n",
       "      <td>MDDNR</td>\n",
       "      <td>NaN</td>\n",
       "      <td>BAY492</td>\n",
       "      <td>0.4</td>\n",
       "      <td>NaN</td>\n",
       "      <td>81372.0</td>\n",
       "      <td>020403030303</td>\n",
       "      <td>MDHMH</td>\n",
       "      <td>38.44902</td>\n",
       "      <td>BS</td>\n",
       "      <td>-75.13245</td>\n",
       "      <td>NaN</td>\n",
       "      <td>22.802</td>\n",
       "      <td>L01</td>\n",
       "      <td>CHLA</td>\n",
       "      <td>NaN</td>\n",
       "      <td>NaN</td>\n",
       "      <td>SWM</td>\n",
       "      <td>CMON</td>\n",
       "      <td>NaN</td>\n",
       "      <td>11/12/2008</td>\n",
       "      <td>S1</td>\n",
       "      <td>10:00:00</td>\n",
       "      <td>D</td>\n",
       "      <td>MDDNR</td>\n",
       "      <td>XDN6921</td>\n",
       "      <td>T3</td>\n",
       "      <td>0.7</td>\n",
       "      <td>UG/L</td>\n",
       "      <td>NaN</td>\n",
       "    </tr>\n",
       "    <tr>\n",
       "      <th>4</th>\n",
       "      <td>MDDNR</td>\n",
       "      <td>NaN</td>\n",
       "      <td>BAY514</td>\n",
       "      <td>0.5</td>\n",
       "      <td>NaN</td>\n",
       "      <td>93090.0</td>\n",
       "      <td>020403030303</td>\n",
       "      <td>MDHMH</td>\n",
       "      <td>38.44902</td>\n",
       "      <td>BS</td>\n",
       "      <td>-75.13245</td>\n",
       "      <td>NaN</td>\n",
       "      <td>32.040</td>\n",
       "      <td>L01</td>\n",
       "      <td>CHLA</td>\n",
       "      <td>NaN</td>\n",
       "      <td>NaN</td>\n",
       "      <td>SWM</td>\n",
       "      <td>CMON</td>\n",
       "      <td>NaN</td>\n",
       "      <td>10/15/2009</td>\n",
       "      <td>S1</td>\n",
       "      <td>11:45:00</td>\n",
       "      <td>D</td>\n",
       "      <td>MDDNR</td>\n",
       "      <td>XDN6921</td>\n",
       "      <td>T3</td>\n",
       "      <td>0.8</td>\n",
       "      <td>UG/L</td>\n",
       "      <td>NaN</td>\n",
       "    </tr>\n",
       "  </tbody>\n",
       "</table>\n",
       "</div>"
      ],
      "text/plain": [
       "  Agency BiasPC  Cruise  Depth Details   EventId         HUC12    Lab  Latitude Layer  Longitude  LowerPycnocline  MeasureValue Method Parameter  PrecisionPC Problem Program Project Qualifier  SampleDate SampleReplicateType SampleTime SampleType Source  Station TierLevel  TotalDepth  Unit  UpperPycnocline\n",
       "0  MDDNR    NaN  BAY509    0.5     NaN  106165.0  020403030303  MDHMH  38.44902    BS  -75.13245              NaN       132.737   L01       CHLA          NaN     NaN     SWM    CMON       NaN   7/22/2009                  S1   11:30:00          D  MDDNR  XDN6921        T3         0.8  UG/L              NaN\n",
       "1  MDDNR    NaN  BAY531    0.1     NaN  112549.0  020403030303  MDHMH  38.44902    BS  -75.13245              NaN       100.392   L01       CHLA          NaN     NaN     SWM    CMON       NaN   6/22/2010                  S1   11:45:00          D  MDDNR  XDN6921        T3         0.4  UG/L              NaN\n",
       "2  MDDNR    NaN  BAY532    0.1     NaN  112810.0  020403030303  MDHMH  38.44902    BS  -75.13245              NaN        51.264   L01       CHLA          NaN     NaN     SWM    CMON       NaN    7/7/2010                  S1   11:30:00          D  MDDNR  XDN6921        T3         0.4  UG/L              NaN\n",
       "3  MDDNR    NaN  BAY492    0.4     NaN   81372.0  020403030303  MDHMH  38.44902    BS  -75.13245              NaN        22.802   L01       CHLA          NaN     NaN     SWM    CMON       NaN  11/12/2008                  S1   10:00:00          D  MDDNR  XDN6921        T3         0.7  UG/L              NaN\n",
       "4  MDDNR    NaN  BAY514    0.5     NaN   93090.0  020403030303  MDHMH  38.44902    BS  -75.13245              NaN        32.040   L01       CHLA          NaN     NaN     SWM    CMON       NaN  10/15/2009                  S1   11:45:00          D  MDDNR  XDN6921        T3         0.8  UG/L              NaN"
      ]
     },
     "execution_count": 18,
     "metadata": {},
     "output_type": "execute_result"
    }
   ],
   "source": [
    "cbp_water.head()"
   ]
  },
  {
   "cell_type": "markdown",
   "metadata": {},
   "source": [
    "#### Read in Monitoring Event Data"
   ]
  },
  {
   "cell_type": "code",
   "execution_count": 19,
   "metadata": {},
   "outputs": [
    {
     "name": "stderr",
     "output_type": "stream",
     "text": [
      "/anaconda3/lib/python3.7/site-packages/IPython/core/interactiveshell.py:3049: DtypeWarning: Columns (0,23) have mixed types. Specify dtype option on import or set low_memory=False.\n",
      "  interactivity=interactivity, compiler=compiler, result=result)\n"
     ]
    }
   ],
   "source": [
    "events = pd.read_csv('./Data/CBP_water/CBP_2005-2020_waterevents.csv', low_memory='False')\n",
    "\n",
    "# filter to just columns not already in CBP\n",
    "newcols = [i for i in events.columns if i not in cbp_water.columns]\n",
    "newcols.append(\"EventId\")\n",
    "events = events[newcols] \n",
    "\n",
    "# merge cbp water with event data\n",
    "cbp_water = cbp_water.merge(events, on = 'EventId')"
   ]
  },
  {
   "cell_type": "code",
   "execution_count": 20,
   "metadata": {
    "scrolled": false
   },
   "outputs": [
    {
     "data": {
      "text/plain": [
       "(4897265, 41)"
      ]
     },
     "execution_count": 20,
     "metadata": {},
     "output_type": "execute_result"
    }
   ],
   "source": [
    "cbp_water.shape"
   ]
  },
  {
   "cell_type": "markdown",
   "metadata": {},
   "source": [
    "#### Map Parameter Name"
   ]
  },
  {
   "cell_type": "code",
   "execution_count": 21,
   "metadata": {},
   "outputs": [],
   "source": [
    "# read in cbp water dict\n",
    "names = pd.read_csv('./Data/CBP_water_dictionary.csv')\n",
    "\n",
    "namesdict = dict(zip(names[\"CBP Code\"], names[\"CBP Parameter\"])) # dict for names\n",
    "\n",
    "cbp_water['ParameterName_CBP'] = cbp_water['Parameter'].map(namesdict) # map"
   ]
  },
  {
   "cell_type": "code",
   "execution_count": 22,
   "metadata": {},
   "outputs": [
    {
     "data": {
      "text/plain": [
       "467578"
      ]
     },
     "execution_count": 22,
     "metadata": {},
     "output_type": "execute_result"
    }
   ],
   "source": [
    "cbp_water['ParameterName_CBP'].isnull().sum()"
   ]
  },
  {
   "cell_type": "code",
   "execution_count": 23,
   "metadata": {
    "scrolled": false
   },
   "outputs": [
    {
     "data": {
      "text/plain": [
       "array(['SPCOND', 'SSC_TOTAL', 'SSC_FINE', 'SSC_SAND', 'FCOLI_C',\n",
       "       'SSC_%FINE', 'FCOLI_M', 'CDOM_440', 'CDOM_SLOPE', 'TCOLI_M',\n",
       "       'DO_SAT_P', nan, 'SSC_%SAND', 'TURB_FNU', 'POC', 'TURB_NTRU'],\n",
       "      dtype=object)"
      ]
     },
     "execution_count": 23,
     "metadata": {},
     "output_type": "execute_result"
    }
   ],
   "source": [
    "# some weren't in the dictionary, but none of these are in the final parameters we want anyway\n",
    "cbp_water[cbp_water['ParameterName_CBP'].isnull()]['Parameter'].unique()"
   ]
  },
  {
   "cell_type": "markdown",
   "metadata": {},
   "source": [
    "#### Filter to Parameters in CMC database"
   ]
  },
  {
   "cell_type": "code",
   "execution_count": 24,
   "metadata": {},
   "outputs": [],
   "source": [
    "# filter to just the parameters in CMC database\n",
    "common = ['AIR TEMPERATURE DEG',\n",
    "          'ACTIVE CHLOROPHYLL-A',\n",
    "          'CONDUCTIVITY CORRECTED FOR TEMPERATURE (25 DEG C) AND SALINITY',\n",
    "          'DISSOLVED OXYGEN IN MG/L',\n",
    "          'DO SATURATION USING PROBE UNITS IN PERCENT',\n",
    "          'AMMONIUM NITROGEN AS N (FILTERED SAMPLE)',\n",
    "          'NITRATE NITROGEN AS N (FILTERED SAMPLE)',\n",
    "          'PH CORRECTED FOR TEMPERATURE (25 DEG C)',\n",
    "          'ORTHOPHOSPHATE PHOSPHORUS AS P (FILTERED SAMPLE)',\n",
    "          'SALINITY UNITS IN PPT AND EQUAL TO PRACTICAL SALNITY UNITS (PSU)',\n",
    "          'SECCHI DEPTH',\n",
    "          'TOTAL ALKALINITY AS CACO3',\n",
    "          'TOTAL DISSOLVED SOLIDS; GRAVIMETRIC; DRIED AT 180 C',\n",
    "          'TOTAL KJELDAHL NITROGEN (WHOLE SAMPLE)',\n",
    "          'TOTAL NITROGEN',\n",
    "          'TOTAL PHOSPHORUS',\n",
    "          'TOTAL SUSPENDED SOLIDS',\n",
    "          'TURBIDITY; JACKSON CANDLE METHOD (FORWARD SCATTER)',\n",
    "          'TURBIDITY; NEPHELOMETRIC METHOD',\n",
    "          'TURBIDITY TUBE',\n",
    "          'WATER TEMPERATURE DEG',\n",
    "          'SPECIFIC CONDUCTIVITY',\n",
    "          'E.COLI BACTERIA',\n",
    "          'TOTAL DEPTH']"
   ]
  },
  {
   "cell_type": "code",
   "execution_count": 25,
   "metadata": {},
   "outputs": [],
   "source": [
    "# filter to just parameters in CMC database\n",
    "cbp_water = cbp_water[cbp_water['ParameterName_CBP'].isin(common)]"
   ]
  },
  {
   "cell_type": "code",
   "execution_count": 26,
   "metadata": {},
   "outputs": [],
   "source": [
    "# adding database source for CBP\n",
    "cbp_water['Database'] = 'CBP'"
   ]
  },
  {
   "cell_type": "markdown",
   "metadata": {},
   "source": [
    "### Standardizing CMC, CBP Columns"
   ]
  },
  {
   "cell_type": "code",
   "execution_count": 27,
   "metadata": {},
   "outputs": [],
   "source": [
    "mymap = pd.read_csv('./Data/CBP_water_dictionary_final.csv')"
   ]
  },
  {
   "cell_type": "code",
   "execution_count": 28,
   "metadata": {},
   "outputs": [],
   "source": [
    "newmap = pd.DataFrame(mymap['CMC Codes'].str.split(',').tolist(), index=mymap['CBP Parameter']).stack()\n",
    "newmap = newmap.reset_index([0, 'CBP Parameter'])\n",
    "newmap[0] = [i.strip().lstrip() for i in newmap[0]]"
   ]
  },
  {
   "cell_type": "code",
   "execution_count": 29,
   "metadata": {},
   "outputs": [],
   "source": [
    "newmap = dict(zip(newmap[0], newmap['CBP Parameter']))"
   ]
  },
  {
   "cell_type": "code",
   "execution_count": 30,
   "metadata": {},
   "outputs": [],
   "source": [
    "cmc_water['ParameterName_CBP'] = cmc_water['Parameter'].map(newmap)"
   ]
  },
  {
   "cell_type": "code",
   "execution_count": 31,
   "metadata": {
    "scrolled": true
   },
   "outputs": [
    {
     "data": {
      "text/plain": [
       "30326"
      ]
     },
     "execution_count": 31,
     "metadata": {},
     "output_type": "execute_result"
    }
   ],
   "source": [
    "cmc_water['ParameterName_CBP'].isnull().sum()"
   ]
  },
  {
   "cell_type": "code",
   "execution_count": 32,
   "metadata": {},
   "outputs": [
    {
     "data": {
      "text/plain": [
       "array(['NO3N.5', 'OP.1', 'CHL.1', 'NO3N.1', 'ECOLI.6', 'ECOLI.1', 'TDS.3',\n",
       "       'ENT.2', 'NO3N.4', 'SA.2', 'WC.12', 'PH.8', 'NO2NO3.1', 'OP.7',\n",
       "       'OP.4', 'SA.1', 'ENT.1', 'PH.5', 'NO2NO3.4', 'PH.4', 'ECOLI.2'],\n",
       "      dtype=object)"
      ]
     },
     "execution_count": 32,
     "metadata": {},
     "output_type": "execute_result"
    }
   ],
   "source": [
    "cmc_water[cmc_water['ParameterName_CBP'].isnull()]['Parameter'].unique()"
   ]
  },
  {
   "cell_type": "code",
   "execution_count": 33,
   "metadata": {},
   "outputs": [],
   "source": [
    "cmc_water['ParameterName_CBP'].fillna('Not in CBP Database', inplace = True)"
   ]
  },
  {
   "cell_type": "code",
   "execution_count": 34,
   "metadata": {},
   "outputs": [],
   "source": [
    "# rename CBP columns to match CMC\n",
    "cbp_water.rename(columns = {'SampleDate': 'Date',\n",
    "                           'SampleTime': 'Time',\n",
    "                           'Depth': 'SampleDepth',\n",
    "                           'EventId': 'SampleId',\n",
    "                         'Details': 'Comments'}, inplace = True)\n",
    "\n",
    "# rename CMC columns to match CBP\n",
    "cmc_water.rename(columns = {'Cloud Cover': 'CloudCover',\n",
    "                       'Wind Direction': 'WindDirection',\n",
    "                       'Wind Speed': 'WindSpeed'}, inplace = True)\n",
    "\n",
    "same = [i for i in cbp_water.columns if i in cmc_water.columns]\n",
    "cbp_only = [i for i in cbp_water.columns if i not in same]\n",
    "cmc_only = [i for i in cmc_water.columns if i not in same]"
   ]
  },
  {
   "cell_type": "code",
   "execution_count": 35,
   "metadata": {},
   "outputs": [
    {
     "data": {
      "text/plain": [
       "['SampleDepth',\n",
       " 'Comments',\n",
       " 'SampleId',\n",
       " 'Latitude',\n",
       " 'Longitude',\n",
       " 'MeasureValue',\n",
       " 'Parameter',\n",
       " 'Problem',\n",
       " 'Qualifier',\n",
       " 'Date',\n",
       " 'Time',\n",
       " 'TierLevel',\n",
       " 'Unit',\n",
       " 'WindSpeed',\n",
       " 'WindDirection',\n",
       " 'CloudCover',\n",
       " 'ParameterName_CBP',\n",
       " 'Database']"
      ]
     },
     "execution_count": 35,
     "metadata": {},
     "output_type": "execute_result"
    }
   ],
   "source": [
    "same"
   ]
  },
  {
   "cell_type": "markdown",
   "metadata": {},
   "source": [
    "## Join CMC and CBP"
   ]
  },
  {
   "cell_type": "code",
   "execution_count": 36,
   "metadata": {},
   "outputs": [
    {
     "data": {
      "text/plain": [
       "(2720510, 65)"
      ]
     },
     "execution_count": 36,
     "metadata": {},
     "output_type": "execute_result"
    }
   ],
   "source": [
    "water = pd.concat([cmc_water, cbp_water], axis = 0, sort = True)\n",
    "water.shape"
   ]
  },
  {
   "cell_type": "code",
   "execution_count": 37,
   "metadata": {},
   "outputs": [],
   "source": [
    "water = water.dropna(subset = ['MeasureValue']) # drop nulls in measure col"
   ]
  },
  {
   "cell_type": "code",
   "execution_count": 38,
   "metadata": {},
   "outputs": [],
   "source": [
    "water.to_csv('./Data/Water_FINAL.csv')"
   ]
  },
  {
   "cell_type": "markdown",
   "metadata": {},
   "source": [
    "## Checking"
   ]
  },
  {
   "cell_type": "code",
   "execution_count": 39,
   "metadata": {},
   "outputs": [
    {
     "data": {
      "text/plain": [
       "Agency                                      264261\n",
       "BiasPC                                     2708662\n",
       "CloudCover                                  476847\n",
       "Comments                                   2613416\n",
       "Cruise                                      264261\n",
       "Database                                         0\n",
       "Date                                             0\n",
       "FieldActivityEventType                     2512269\n",
       "FieldActivityRemark                        2708717\n",
       "FlowStage                                  2702786\n",
       "GaugeHeight                                2608944\n",
       "GroupCode                                  2444456\n",
       "HUC12                                       264261\n",
       "Lab                                        1843644\n",
       "Latitude                                         0\n",
       "Layer                                       264812\n",
       "Longitude                                        0\n",
       "LowerPycnocline                            2284282\n",
       "MeasureValue                                     0\n",
       "Method                                      264261\n",
       "ModifiedDate                               2444456\n",
       "Other Comments                             2687940\n",
       "Other Conditions                           2704336\n",
       "Parameter                                        0\n",
       "ParameterName_CBP                                0\n",
       "ParameterName_CMC                          2444456\n",
       "PrecipType                                 1891621\n",
       "PrecisionPC                                2708717\n",
       "Pressure                                   2634638\n",
       "Problem                                    2678579\n",
       "Program                                     264261\n",
       "Project                                     264261\n",
       "Qualifier                                  2618532\n",
       "Rainfall                                   2688370\n",
       "Rainfall Within 24 Hours                   2703385\n",
       "Rainfall Within 48 Hours                   2682090\n",
       "SampleDepth                                   3836\n",
       "SampleId                                         0\n",
       "SampleReplicateType                         264261\n",
       "SampleType                                  264812\n",
       "Sea State                                  2703287\n",
       "Source                                      264261\n",
       "Station                                     264261\n",
       "StationCode                                2444456\n",
       "StationName                                2446119\n",
       "Stream Flow                                2677661\n",
       "Tidal Stage                                2644517\n",
       "TideStage                                   645780\n",
       "TierLevel                                        0\n",
       "Time                                             0\n",
       "TotalDepth                                  603065\n",
       "Unit                                             0\n",
       "UpperPycnocline                            2284282\n",
       "Water Color                                2675841\n",
       "Water Color Description                    2638221\n",
       "Water Odor                                 2676199\n",
       "Water Odor Description                     2687625\n",
       "Water Surfaces                             2656405\n",
       "WaveHeight                                  943908\n",
       "Weather Conditions Day Before Yesterday    2704250\n",
       "Weather Conditions Today                   2592996\n",
       "Weather Conditions Yesterday               2699754\n",
       "WindDirection                              1038943\n",
       "WindSpeed                                  1218802\n",
       "state                                      2444456\n",
       "dtype: int64"
      ]
     },
     "execution_count": 39,
     "metadata": {},
     "output_type": "execute_result"
    }
   ],
   "source": [
    "water.isnull().sum()"
   ]
  },
  {
   "cell_type": "code",
   "execution_count": 40,
   "metadata": {},
   "outputs": [],
   "source": [
    "water_cmc = water[water['Database']=='CMC']\n",
    "water_cbp = water[water['Database']=='CBP']"
   ]
  },
  {
   "cell_type": "code",
   "execution_count": 41,
   "metadata": {},
   "outputs": [],
   "source": [
    "cmc_counts = water_cmc['ParameterName_CBP'].value_counts().to_dict()\n",
    "cmc_countsdf = pd.DataFrame(cmc_counts.values(), index = cmc_counts.keys())\n",
    "cmc_countsdf.rename(columns = {0: 'CMC'}, inplace = True)"
   ]
  },
  {
   "cell_type": "code",
   "execution_count": 42,
   "metadata": {},
   "outputs": [],
   "source": [
    "cbp_counts = water_cbp['ParameterName_CBP'].value_counts().to_dict()\n",
    "cbp_countsdf = pd.DataFrame(cbp_counts.values(), index = cbp_counts.keys())\n",
    "cbp_countsdf.rename(columns = {0: 'CBP'}, inplace = True)"
   ]
  },
  {
   "cell_type": "code",
   "execution_count": 43,
   "metadata": {},
   "outputs": [
    {
     "name": "stderr",
     "output_type": "stream",
     "text": [
      "/anaconda3/lib/python3.7/site-packages/ipykernel_launcher.py:1: FutureWarning: Sorting because non-concatenation axis is not aligned. A future version\n",
      "of pandas will change to not sort by default.\n",
      "\n",
      "To accept the future behavior, pass 'sort=False'.\n",
      "\n",
      "To retain the current behavior and silence the warning, pass 'sort=True'.\n",
      "\n",
      "  \"\"\"Entry point for launching an IPython kernel.\n"
     ]
    }
   ],
   "source": [
    "counts = pd.concat([cmc_countsdf, cbp_countsdf], axis = 1)"
   ]
  },
  {
   "cell_type": "code",
   "execution_count": 44,
   "metadata": {},
   "outputs": [],
   "source": [
    "counts.to_csv('./Data/Water_Summary.csv')"
   ]
  },
  {
   "cell_type": "code",
   "execution_count": 45,
   "metadata": {},
   "outputs": [
    {
     "data": {
      "text/plain": [
       "(2544, 2)"
      ]
     },
     "execution_count": 45,
     "metadata": {},
     "output_type": "execute_result"
    }
   ],
   "source": [
    "water[['Longitude', 'Latitude']].drop_duplicates().shape"
   ]
  },
  {
   "cell_type": "code",
   "execution_count": 46,
   "metadata": {},
   "outputs": [
    {
     "data": {
      "text/plain": [
       "(1657, 2)"
      ]
     },
     "execution_count": 46,
     "metadata": {},
     "output_type": "execute_result"
    }
   ],
   "source": [
    "water_cmc[['Longitude', 'Latitude']].drop_duplicates().shape"
   ]
  },
  {
   "cell_type": "code",
   "execution_count": 47,
   "metadata": {},
   "outputs": [
    {
     "data": {
      "text/plain": [
       "(887, 2)"
      ]
     },
     "execution_count": 47,
     "metadata": {},
     "output_type": "execute_result"
    }
   ],
   "source": [
    "water_cbp[['Longitude', 'Latitude']].drop_duplicates().shape"
   ]
  },
  {
   "cell_type": "markdown",
   "metadata": {},
   "source": [
    "## EDA"
   ]
  },
  {
   "cell_type": "code",
   "execution_count": 48,
   "metadata": {},
   "outputs": [
    {
     "name": "stderr",
     "output_type": "stream",
     "text": [
      "/anaconda3/lib/python3.7/site-packages/ipykernel_launcher.py:2: SettingWithCopyWarning: \n",
      "A value is trying to be set on a copy of a slice from a DataFrame.\n",
      "Try using .loc[row_indexer,col_indexer] = value instead\n",
      "\n",
      "See the caveats in the documentation: http://pandas.pydata.org/pandas-docs/stable/indexing.html#indexing-view-versus-copy\n",
      "  \n",
      "/anaconda3/lib/python3.7/site-packages/ipykernel_launcher.py:5: SettingWithCopyWarning: \n",
      "A value is trying to be set on a copy of a slice from a DataFrame.\n",
      "Try using .loc[row_indexer,col_indexer] = value instead\n",
      "\n",
      "See the caveats in the documentation: http://pandas.pydata.org/pandas-docs/stable/indexing.html#indexing-view-versus-copy\n",
      "  \"\"\"\n"
     ]
    }
   ],
   "source": [
    "# change to datetime\n",
    "water_cmc['Real_Date'] = pd.to_datetime(water_cmc['Date'])\n",
    "\n",
    "# aggregate dates by month/year\n",
    "water_cmc['month_year'] = water_cmc['Real_Date'].dt.to_period('M')\n",
    "\n",
    "# sort by month/year\n",
    "water_cmc = water_cmc.sort_values(by = 'month_year')"
   ]
  },
  {
   "cell_type": "code",
   "execution_count": 49,
   "metadata": {},
   "outputs": [
    {
     "name": "stderr",
     "output_type": "stream",
     "text": [
      "/anaconda3/lib/python3.7/site-packages/pandas/plotting/_converter.py:129: FutureWarning: Using an implicitly registered datetime converter for a matplotlib plotting method. The converter was registered by pandas on import. Future versions of pandas will require you to explicitly register matplotlib converters.\n",
      "\n",
      "To register the converters:\n",
      "\t>>> from pandas.plotting import register_matplotlib_converters\n",
      "\t>>> register_matplotlib_converters()\n",
      "  warnings.warn(msg, FutureWarning)\n"
     ]
    },
    {
     "data": {
      "image/png": "[encoded data removed]",
      "text/plain": [
       "<Figure size 432x288 with 1 Axes>"
      ]
     },
     "metadata": {
      "needs_background": "light"
     },
     "output_type": "display_data"
    }
   ],
   "source": [
    "# plot\n",
    "plt.hist(water_cmc['Real_Date'], bins = 27)\n",
    "plt.title(\"CMC Water Quality Data over Time\");"
   ]
  },
  {
   "cell_type": "code",
   "execution_count": 50,
   "metadata": {},
   "outputs": [
    {
     "name": "stderr",
     "output_type": "stream",
     "text": [
      "/anaconda3/lib/python3.7/site-packages/ipykernel_launcher.py:2: SettingWithCopyWarning: \n",
      "A value is trying to be set on a copy of a slice from a DataFrame.\n",
      "Try using .loc[row_indexer,col_indexer] = value instead\n",
      "\n",
      "See the caveats in the documentation: http://pandas.pydata.org/pandas-docs/stable/indexing.html#indexing-view-versus-copy\n",
      "  \n",
      "/anaconda3/lib/python3.7/site-packages/ipykernel_launcher.py:5: SettingWithCopyWarning: \n",
      "A value is trying to be set on a copy of a slice from a DataFrame.\n",
      "Try using .loc[row_indexer,col_indexer] = value instead\n",
      "\n",
      "See the caveats in the documentation: http://pandas.pydata.org/pandas-docs/stable/indexing.html#indexing-view-versus-copy\n",
      "  \"\"\"\n"
     ]
    }
   ],
   "source": [
    "# change to datetime\n",
    "water_cbp['Real_Date'] = pd.to_datetime(water_cbp['Date'])\n",
    "\n",
    "# aggregate dates by month/year\n",
    "water_cbp['month_year'] = water_cbp['Real_Date'].dt.to_period('M')\n",
    "\n",
    "# sort by month/year\n",
    "water_cbp = water_cbp.sort_values(by = 'month_year')"
   ]
  },
  {
   "cell_type": "code",
   "execution_count": 53,
   "metadata": {},
   "outputs": [
    {
     "data": {
      "image/png": "[encoded data removed]",
      "text/plain": [
       "<Figure size 432x288 with 1 Axes>"
      ]
     },
     "metadata": {
      "needs_background": "light"
     },
     "output_type": "display_data"
    }
   ],
   "source": [
    "# plot\n",
    "plt.hist(water_cbp['Real_Date'], bins = 16)\n",
    "plt.title(\"CBP Water Quality Data over Time\");"
   ]
  },
  {
   "cell_type": "code",
   "execution_count": null,
   "metadata": {},
   "outputs": [],
   "source": []
  }
 ],
 "metadata": {
  "kernelspec": {
   "display_name": "Python 3",
   "language": "python",
   "name": "python3"
  },
  "language_info": {
   "codemirror_mode": {
    "name": "ipython",
    "version": 3
   },
   "file_extension": ".py",
   "mimetype": "text/x-python",
   "name": "python",
   "nbconvert_exporter": "python",
   "pygments_lexer": "ipython3",
   "version": "3.7.3"
  }
 },
 "nbformat": 4,
 "nbformat_minor": 2
}
